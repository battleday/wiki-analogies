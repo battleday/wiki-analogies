{
 "cells": [
  {
   "cell_type": "code",
   "execution_count": 1,
   "metadata": {},
   "outputs": [],
   "source": [
    "%matplotlib inline\n",
    "import os\n",
    "import numpy as np\n",
    "import pickle\n",
    "import matplotlib.pyplot as plt"
   ]
  },
  {
   "cell_type": "code",
   "execution_count": 2,
   "metadata": {},
   "outputs": [
    {
     "data": {
      "text/plain": [
       "['pages_to_categories2020.p',\n",
       " 'wiki-topcats.txt',\n",
       " 'wiki-topcats-categories.txt',\n",
       " 'domains',\n",
       " '.DS_Store',\n",
       " 'numDomainsPerCatRaw.npy',\n",
       " 'categories_to_domains2020.p',\n",
       " 'matrices2020',\n",
       " 'categories_to_names2020.p',\n",
       " 'wiki-topcats-page-names.txt',\n",
       " '.ipynb_checkpoints',\n",
       " 'categories_to_categories2020.p',\n",
       " 'domains_to_names2020.p',\n",
       " 'domains2020.npy',\n",
       " 'figs2020']"
      ]
     },
     "execution_count": 2,
     "metadata": {},
     "output_type": "execute_result"
    }
   ],
   "source": [
    "wDir = '.' # the top level working directory\n",
    "dataDir = '{0}/WIKIdata'.format(wDir) # where to find and store the data. \n",
    "# Unlink from git if necessary by adding to .gitignore in wDir; large files.\n",
    "\n",
    "matDir = 'matrices2020' # where to store output matrices\n",
    "figDir = 'figs2020' # where to store output figures\n",
    "\n",
    "os.listdir(dataDir)"
   ]
  },
  {
   "cell_type": "code",
   "execution_count": null,
   "metadata": {},
   "outputs": [],
   "source": [
    "categories = []\n",
    "etas = []\n",
    "zetas = []\n",
    "\n",
    "loadDir = '{}/{}'.format(dataDir, matDir)\n",
    "saveDir = '{}'.format(dataDir)\n",
    "domains = os.listdir(loadDir)\n",
    "for i in np.arange(51):\n",
    "    loadPath = '{}/wikipedia_system_{}.npz'.format(loadDir, i)\n",
    "    results = np.load(loadPath)\n",
    "    #print(list(results.keys()))\n",
    "    categories.append(results['C'])\n",
    "    etas.append(results['intMat'].flatten())\n",
    "    zetas.append(results['freqVec'].flatten())"
   ]
  },
  {
   "cell_type": "code",
   "execution_count": 21,
   "metadata": {},
   "outputs": [
    {
     "name": "stdout",
     "output_type": "stream",
     "text": [
      "51 [ 5  7 12 11  6] 3 20\n",
      "2038 [1. 0. 0. 0. 0.]\n",
      "264 [0.15255955 0.24835276 0.2356817  0.32133806 0.04206792]\n"
     ]
    }
   ],
   "source": [
    "categories = np.array(categories)\n",
    "etas = np.hstack((etas))\n",
    "zetas = np.hstack(zetas)\n",
    "print(len(categories), categories[:5], np.min(categories), np.max(categories))\n",
    "print(len(etas), etas[:5])\n",
    "print(len(zetas), zetas[:5])"
   ]
  },
  {
   "cell_type": "code",
   "execution_count": 20,
   "metadata": {},
   "outputs": [
    {
     "data": {
      "image/png": "[encoded data removed]",
      "text/plain": [
       "<Figure size 432x288 with 1 Axes>"
      ]
     },
     "metadata": {
      "needs_background": "light"
     },
     "output_type": "display_data"
    },
    {
     "data": {
      "image/png": "[encoded data removed]",
      "text/plain": [
       "<Figure size 432x288 with 1 Axes>"
      ]
     },
     "metadata": {
      "needs_background": "light"
     },
     "output_type": "display_data"
    },
    {
     "data": {
      "image/png": "[encoded data removed]",
      "text/plain": [
       "<Figure size 432x288 with 1 Axes>"
      ]
     },
     "metadata": {
      "needs_background": "light"
     },
     "output_type": "display_data"
    }
   ],
   "source": [
    "plt.hist(categories)\n",
    "plt.show()\n",
    "plt.close()\n",
    "plt.hist(etas)\n",
    "plt.show()\n",
    "plt.close()\n",
    "plt.hist(zetas)\n",
    "plt.show()\n",
    "plt.close()"
   ]
  }
 ],
 "metadata": {
  "kernelspec": {
   "display_name": "Python 3",
   "language": "python",
   "name": "python3"
  },
  "language_info": {
   "codemirror_mode": {
    "name": "ipython",
    "version": 3
   },
   "file_extension": ".py",
   "mimetype": "text/x-python",
   "name": "python",
   "nbconvert_exporter": "python",
   "pygments_lexer": "ipython3",
   "version": "3.7.7"
  }
 },
 "nbformat": 4,
 "nbformat_minor": 2
}
